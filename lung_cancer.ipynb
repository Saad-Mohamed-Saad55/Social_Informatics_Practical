{
 "cells": [
  {
   "cell_type": "code",
   "execution_count": 29,
   "id": "initial_id",
   "metadata": {
    "ExecuteTime": {
     "end_time": "2024-05-18T10:56:57.102407500Z",
     "start_time": "2024-05-18T10:56:56.928437100Z"
    },
    "collapsed": true
   },
   "outputs": [
    {
     "name": "stdout",
     "output_type": "stream",
     "text": [
      "Before cleaning:\n",
      "    GENDER  AGE  SMOKING  YELLOW_FINGERS  ANXIETY  PEER_PRESSURE  \\\n",
      "0        M   69        1               2        2              1   \n",
      "1        M   74        2               1        1              1   \n",
      "2        F   59        1               1        1              2   \n",
      "3        M   63        2               2        2              1   \n",
      "4        F   63        1               2        1              1   \n",
      "..     ...  ...      ...             ...      ...            ...   \n",
      "304      F   56        1               1        1              2   \n",
      "305      M   70        2               1        1              1   \n",
      "306      M   58        2               1        1              1   \n",
      "307      M   67        2               1        2              1   \n",
      "308      M   62        1               1        1              2   \n",
      "\n",
      "     CHRONIC DISEASE  FATIGUE   ALLERGY   WHEEZING  ALCOHOL CONSUMING  \\\n",
      "0                  1         2         1         2                  2   \n",
      "1                  2         2         2         1                  1   \n",
      "2                  1         2         1         2                  1   \n",
      "3                  1         1         1         1                  2   \n",
      "4                  1         1         1         2                  1   \n",
      "..               ...       ...       ...       ...                ...   \n",
      "304                2         2         1         1                  2   \n",
      "305                1         2         2         2                  2   \n",
      "306                1         1         2         2                  2   \n",
      "307                1         2         2         1                  2   \n",
      "308                1         2         2         2                  2   \n",
      "\n",
      "     COUGHING  SHORTNESS OF BREATH  SWALLOWING DIFFICULTY  CHEST PAIN  \\\n",
      "0           2                    2                      2           2   \n",
      "1           1                    2                      2           2   \n",
      "2           2                    2                      1           2   \n",
      "3           1                    1                      2           2   \n",
      "4           2                    2                      1           1   \n",
      "..        ...                  ...                    ...         ...   \n",
      "304         2                    2                      2           1   \n",
      "305         2                    2                      1           2   \n",
      "306         2                    1                      1           2   \n",
      "307         2                    2                      1           2   \n",
      "308         1                    1                      2           1   \n",
      "\n",
      "    LUNG_CANCER  \n",
      "0           YES  \n",
      "1           YES  \n",
      "2            NO  \n",
      "3            NO  \n",
      "4            NO  \n",
      "..          ...  \n",
      "304         YES  \n",
      "305         YES  \n",
      "306         YES  \n",
      "307         YES  \n",
      "308         YES  \n",
      "\n",
      "[309 rows x 16 columns]\n",
      "\n",
      "Missing values before handling:\n",
      "GENDER                   0\n",
      "AGE                      0\n",
      "SMOKING                  0\n",
      "YELLOW_FINGERS           0\n",
      "ANXIETY                  0\n",
      "PEER_PRESSURE            0\n",
      "CHRONIC DISEASE          0\n",
      "FATIGUE                  0\n",
      "ALLERGY                  0\n",
      "WHEEZING                 0\n",
      "ALCOHOL CONSUMING        0\n",
      "COUGHING                 0\n",
      "SHORTNESS OF BREATH      0\n",
      "SWALLOWING DIFFICULTY    0\n",
      "CHEST PAIN               0\n",
      "LUNG_CANCER              0\n",
      "dtype: int64\n",
      "\n",
      "Number of duplicate rows: 33\n",
      "\n",
      "After cleaning:\n",
      "  GENDER  AGE  SMOKING  YELLOW_FINGERS  ANXIETY  PEER_PRESSURE  \\\n",
      "0      M   69        1               2        2              1   \n",
      "1      M   74        2               1        1              1   \n",
      "2      F   59        1               1        1              2   \n",
      "3      M   63        2               2        2              1   \n",
      "4      F   63        1               2        1              1   \n",
      "\n",
      "   CHRONIC DISEASE  FATIGUE   ALLERGY   WHEEZING  ALCOHOL CONSUMING  COUGHING  \\\n",
      "0                1         2         1         2                  2         2   \n",
      "1                2         2         2         1                  1         1   \n",
      "2                1         2         1         2                  1         2   \n",
      "3                1         1         1         1                  2         1   \n",
      "4                1         1         1         2                  1         2   \n",
      "\n",
      "   SHORTNESS OF BREATH  SWALLOWING DIFFICULTY  CHEST PAIN LUNG_CANCER  \n",
      "0                    2                      2           2         YES  \n",
      "1                    2                      2           2         YES  \n",
      "2                    2                      1           2          NO  \n",
      "3                    1                      2           2          NO  \n",
      "4                    2                      1           1          NO  \n",
      "\n",
      "Dataset cleaning completed!\n"
     ]
    }
   ],
   "source": [
    "# =====================> Dataset Cleaning <=====================\n",
    "\n",
    "import pandas as pd\n",
    "\n",
    "# Load the dataset\n",
    "myDataset = pd.read_csv('lung cancer.csv')\n",
    "\n",
    "# Display the first few rows of the dataset\n",
    "print(\"Before cleaning:\")\n",
    "print(myDataset)\n",
    "\n",
    "# Check for missing values and handle them\n",
    "missing_values = myDataset.isnull().sum()\n",
    "print(\"\\nMissing values before handling:\")\n",
    "print(missing_values)\n",
    "\n",
    "# Drop rows with missing values\n",
    "myDataset = myDataset.dropna()\n",
    "\n",
    "# Check for duplicate rows and remove them\n",
    "duplicate_rows = myDataset.duplicated().sum()\n",
    "print(\"\\nNumber of duplicate rows:\", duplicate_rows)\n",
    "myDataset = myDataset.drop_duplicates()\n",
    "\n",
    "# Display the cleaned dataset\n",
    "print(\"\\nAfter cleaning:\")\n",
    "print(myDataset.head())\n",
    "\n",
    "# Save the cleaned dataset to a new CSV file\n",
    "myDataset.to_csv('Cleaned_lung cancer.csv', index=False)\n",
    "\n",
    "print(\"\\nDataset cleaning completed!\")"
   ]
  },
  {
   "cell_type": "code",
   "execution_count": 35,
   "id": "a5731bc024925ed4",
   "metadata": {
    "ExecuteTime": {
     "end_time": "2024-05-18T11:13:38.812947900Z",
     "start_time": "2024-05-18T11:13:37.313783400Z"
    },
    "collapsed": false
   },
   "outputs": [
    {
     "name": "stdout",
     "output_type": "stream",
     "text": [
      "Selected features using chi-square test: Index(['AGE', 'YELLOW_FINGERS', 'ANXIETY', 'PEER_PRESSURE', 'ALLERGY ',\n",
      "       'WHEEZING', 'ALCOHOL CONSUMING', 'COUGHING', 'SWALLOWING DIFFICULTY',\n",
      "       'CHEST PAIN'],\n",
      "      dtype='object')\n"
     ]
    }
   ],
   "source": [
    "import pandas as pd\n",
    "from sklearn.feature_selection import chi2, SelectKBest\n",
    "from sklearn.preprocessing import LabelEncoder\n",
    "\n",
    "# Load the data\n",
    "data = pd.read_csv('lung cancer.csv')\n",
    "\n",
    "# Separate features and target variable\n",
    "X = data.drop('LUNG_CANCER', axis=1)\n",
    "y = data['LUNG_CANCER']\n",
    "\n",
    "# Encode the \"Gender\" feature\n",
    "le = LabelEncoder()\n",
    "X[\"GENDER\"] = le.fit_transform(X[\"GENDER\"])\n",
    "\n",
    "# Feature selection using chi-square test\n",
    "chi2_selector = SelectKBest(chi2, k=10)\n",
    "\n",
    "# Fit the selector\n",
    "chi2_selector.fit(X, y)\n",
    "\n",
    "# Get selected features\n",
    "selected_features = X.columns[chi2_selector.get_support(indices=True)]\n",
    "\n",
    "print(\"Selected features using chi-square test:\", selected_features)\n"
   ]
  },
  {
   "cell_type": "code",
   "execution_count": 37,
   "id": "c0e46d18726114dd",
   "metadata": {
    "ExecuteTime": {
     "end_time": "2024-05-18T11:38:31.194185100Z",
     "start_time": "2024-05-18T11:38:30.888727800Z"
    },
    "collapsed": false
   },
   "outputs": [
    {
     "name": "stdout",
     "output_type": "stream",
     "text": [
      "     GENDER       AGE   SMOKING  YELLOW_FINGERS   ANXIETY  PEER_PRESSURE  \\\n",
      "0  0.952579  0.771850 -1.135292        0.869300  1.003241      -1.003241   \n",
      "1  0.952579  1.381829  0.880830       -1.150351 -0.996769      -1.003241   \n",
      "2 -1.049781 -0.448107 -1.135292       -1.150351 -0.996769       0.996769   \n",
      "3  0.952579  0.039876  0.880830        0.869300  1.003241      -1.003241   \n",
      "4 -1.049781  0.039876 -1.135292        0.869300 -0.996769      -1.003241   \n",
      "\n",
      "   CHRONIC DISEASE  FATIGUE   ALLERGY   WHEEZING  ALCOHOL CONSUMING  COUGHING  \\\n",
      "0        -1.009756  0.696833 -1.120480  0.892475           0.892475  0.852207   \n",
      "1         0.990338  0.696833  0.892475 -1.120480          -1.120480 -1.173424   \n",
      "2        -1.009756  0.696833 -1.120480  0.892475          -1.120480  0.852207   \n",
      "3        -1.009756 -1.435063 -1.120480 -1.120480           0.892475 -1.173424   \n",
      "4        -1.009756 -1.435063 -1.120480  0.892475          -1.120480  0.852207   \n",
      "\n",
      "   SHORTNESS OF BREATH  SWALLOWING DIFFICULTY  CHEST PAIN LUNG_CANCER  \n",
      "0             0.748736               1.063501    0.892475         YES  \n",
      "1             0.748736               1.063501    0.892475         YES  \n",
      "2             0.748736              -0.940291    0.892475          NO  \n",
      "3            -1.335584               1.063501    0.892475          NO  \n",
      "4             0.748736              -0.940291   -1.120480          NO  \n"
     ]
    }
   ],
   "source": [
    "import pandas as pd\n",
    "from sklearn.preprocessing import StandardScaler, LabelEncoder\n",
    "\n",
    "# Load the data assuming it's in a CSV file named 'lung_cancer.csv'\n",
    "data = pd.read_csv('lung cancer.csv')\n",
    "\n",
    "# Separate features and target variable\n",
    "X = data.drop('LUNG_CANCER', axis=1)  # All columns except 'Lung Cancer'\n",
    "y = data['LUNG_CANCER']\n",
    "\n",
    "# Handle categorical features (e.g., Gender) using label encoding\n",
    "categorical_features = ['GENDER']  # Add other categorical features if needed\n",
    "le = LabelEncoder()\n",
    "for feature in categorical_features:\n",
    "    X[feature] = le.fit_transform(X[feature])\n",
    "\n",
    "# Create a StandardScaler object\n",
    "scaler = StandardScaler()\n",
    "\n",
    "# Fit the scaler on the features (now numerical)\n",
    "scaler.fit(X)\n",
    "\n",
    "# Transform the features using the fitted scaler\n",
    "X_scaled = scaler.transform(X)\n",
    "\n",
    "# Combine the scaled features and target variable\n",
    "data_scaled = pd.concat([pd.DataFrame(X_scaled, columns=X.columns), y], axis=1)\n",
    "\n",
    "# Print a sample of the scaled data\n",
    "print(data_scaled.head())\n"
   ]
  },
  {
   "cell_type": "code",
   "execution_count": 38,
   "id": "2bf3b379cba1df4f",
   "metadata": {
    "ExecuteTime": {
     "end_time": "2024-05-18T11:40:15.828286200Z",
     "start_time": "2024-05-18T11:40:15.556786300Z"
    },
    "collapsed": false
   },
   "outputs": [
    {
     "name": "stdout",
     "output_type": "stream",
     "text": [
      "Training set size: (231, 15)\n",
      "Testing set size: (78, 15)\n"
     ]
    }
   ],
   "source": [
    "from sklearn.model_selection import train_test_split\n",
    "\n",
    "# Split data into training and testing sets (default test_size is 0.25)\n",
    "X_train, X_test, y_train, y_test = train_test_split(X, y, test_size=0.25, random_state=42)\n",
    "\n",
    "# Print the sizes of the training and testing sets\n",
    "print(\"Training set size:\", X_train.shape)\n",
    "print(\"Testing set size:\", X_test.shape)\n"
   ]
  },
  {
   "cell_type": "code",
   "execution_count": 39,
   "id": "1dede30ddedc42e0",
   "metadata": {
    "ExecuteTime": {
     "end_time": "2024-05-18T11:49:05.921762800Z",
     "start_time": "2024-05-18T11:49:01.377814500Z"
    },
    "collapsed": false
   },
   "outputs": [
    {
     "name": "stdout",
     "output_type": "stream",
     "text": [
      "Accuracy: 0.9743589743589743\n"
     ]
    }
   ],
   "source": [
    "from sklearn.svm import SVC\n",
    "from sklearn.model_selection import train_test_split\n",
    "from sklearn.preprocessing import LabelEncoder, StandardScaler\n",
    "from sklearn.metrics import accuracy_score\n",
    "\n",
    "# Load the data assuming it's in a CSV file named 'lung_cancer.csv'\n",
    "data = pd.read_csv('lung cancer.csv')\n",
    "\n",
    "# Separate features and target variable\n",
    "X = data.drop('LUNG_CANCER', axis=1)  # All columns except 'Lung Cancer'\n",
    "y = data['LUNG_CANCER']\n",
    "\n",
    "# Handle categorical features (e.g., Gender) using label encoding\n",
    "categorical_features = ['GENDER']  # Add other categorical features if needed\n",
    "le = LabelEncoder()\n",
    "for feature in categorical_features:\n",
    "    X[feature] = le.fit_transform(X[feature])\n",
    "\n",
    "# Create a StandardScaler object\n",
    "scaler = StandardScaler()\n",
    "\n",
    "# Fit the scaler on the features (now numerical)\n",
    "scaler.fit(X)\n",
    "\n",
    "# Transform the features using the fitted scaler\n",
    "X_scaled = scaler.transform(X)\n",
    "\n",
    "# Split data into training and testing sets (75% training, 25% testing)\n",
    "X_train, X_test, y_train, y_test = train_test_split(X_scaled, y, test_size=0.25, random_state=42)\n",
    "\n",
    "# Create an SVC object with a linear kernel\n",
    "clf = SVC(kernel='linear', random_state=42)\n",
    "\n",
    "# Train the model on the training data\n",
    "clf.fit(X_train, y_train)\n",
    "\n",
    "# Make predictions on the testing set\n",
    "y_pred = clf.predict(X_test)\n",
    "\n",
    "# Evaluate the model using accuracy score\n",
    "accuracy = accuracy_score(y_test, y_pred)\n",
    "print(\"Accuracy:\", accuracy)\n"
   ]
  },
  {
   "cell_type": "code",
   "execution_count": 40,
   "id": "7156dffd74a6b513",
   "metadata": {
    "ExecuteTime": {
     "end_time": "2024-05-18T11:57:34.806880900Z",
     "start_time": "2024-05-18T11:57:20.089671Z"
    },
    "collapsed": false
   },
   "outputs": [
    {
     "name": "stdout",
     "output_type": "stream",
     "text": [
      "Accuracy: 0.9743589743589743\n"
     ]
    }
   ],
   "source": [
    "from sklearn.ensemble import RandomForestClassifier\n",
    "from sklearn.model_selection import train_test_split\n",
    "from sklearn.preprocessing import LabelEncoder, StandardScaler\n",
    "from sklearn.metrics import accuracy_score\n",
    "\n",
    "# Load the data assuming it's in a CSV file named 'lung_cancer.csv'\n",
    "data = pd.read_csv('lung cancer.csv')\n",
    "\n",
    "# Separate features and target variable\n",
    "X = data.drop('LUNG_CANCER', axis=1)  # All columns except 'Lung Cancer'\n",
    "y = data['LUNG_CANCER']\n",
    "\n",
    "# Handle categorical features (e.g., Gender) using label encoding\n",
    "categorical_features = ['GENDER']  # Add other categorical features if needed\n",
    "le = LabelEncoder()\n",
    "for feature in categorical_features:\n",
    "    X[feature] = le.fit_transform(X[feature])\n",
    "\n",
    "# Create a StandardScaler object\n",
    "scaler = StandardScaler()\n",
    "\n",
    "# Fit the scaler on the features (now numerical)\n",
    "scaler.fit(X)\n",
    "\n",
    "# Transform the features using the fitted scaler\n",
    "X_scaled = scaler.transform(X)\n",
    "\n",
    "# Split data into training and testing sets (75% training, 25% testing)\n",
    "X_train, X_test, y_train, y_test = train_test_split(X_scaled, y, test_size=0.25, random_state=42)\n",
    "\n",
    "# Create a Random Forest Classifier object\n",
    "clf = RandomForestClassifier(n_estimators=100, random_state=42)\n",
    "\n",
    "# Train the model on the training data\n",
    "clf.fit(X_train, y_train)\n",
    "\n",
    "# Make predictions on the testing set\n",
    "y_pred = clf.predict(X_test)\n",
    "\n",
    "# Evaluate the model using accuracy score\n",
    "accuracy = accuracy_score(y_test, y_pred)\n",
    "print(\"Accuracy:\", accuracy)\n"
   ]
  },
  {
   "cell_type": "code",
   "execution_count": 41,
   "id": "e8d278b2794e49e5",
   "metadata": {
    "ExecuteTime": {
     "end_time": "2024-05-18T11:58:56.764222Z",
     "start_time": "2024-05-18T11:58:55.763496Z"
    },
    "collapsed": false
   },
   "outputs": [
    {
     "name": "stdout",
     "output_type": "stream",
     "text": [
      "              precision    recall  f1-score   support\n",
      "\n",
      "          NO       0.80      0.80      0.80         5\n",
      "         YES       0.99      0.99      0.99        73\n",
      "\n",
      "    accuracy                           0.97        78\n",
      "   macro avg       0.89      0.89      0.89        78\n",
      "weighted avg       0.97      0.97      0.97        78\n"
     ]
    }
   ],
   "source": [
    "from sklearn.metrics import classification_report\n",
    "\n",
    "report = classification_report(y_test, y_pred)\n",
    "print(report)\n"
   ]
  },
  {
   "cell_type": "code",
   "execution_count": 42,
   "id": "55fabfadd12e3d37",
   "metadata": {
    "ExecuteTime": {
     "end_time": "2024-05-18T12:02:44.705580800Z",
     "start_time": "2024-05-18T12:02:44.655472900Z"
    },
    "collapsed": false
   },
   "outputs": [
    {
     "name": "stdout",
     "output_type": "stream",
     "text": [
      "Accuracy: 0.9743589743589743\n",
      "              precision    recall  f1-score   support\n",
      "\n",
      "          NO       0.80      0.80      0.80         5\n",
      "         YES       0.99      0.99      0.99        73\n",
      "\n",
      "    accuracy                           0.97        78\n",
      "   macro avg       0.89      0.89      0.89        78\n",
      "weighted avg       0.97      0.97      0.97        78\n",
      "\n",
      "\n",
      "Analysis and Conclusions:\n",
      "The model achieved an accuracy of 0.97.\n",
      "The classification report reveals:\n",
      "              precision    recall  f1-score   support\n",
      "\n",
      "          NO       0.80      0.80      0.80         5\n",
      "         YES       0.99      0.99      0.99        73\n",
      "\n",
      "    accuracy                           0.97        78\n",
      "   macro avg       0.89      0.89      0.89        78\n",
      "weighted avg       0.97      0.97      0.97        78\n",
      "\n",
      "However, the dataset size (100 samples) limits the generalizability of these results.\n",
      "Feature importance analysis (if applicable) can provide insights into the most predictive features for lung cancer.\n",
      "This initial exploration highlights the potential for using machine learning for lung cancer prediction, but a larger dataset is crucial for building a robust model.\n"
     ]
    }
   ],
   "source": [
    "# ... your code for data loading, preprocessing, splitting, model training ...\n",
    "\n",
    "# Make predictions on the testing set\n",
    "y_pred = clf.predict(X_test)\n",
    "\n",
    "# Evaluate the model using accuracy score\n",
    "accuracy = accuracy_score(y_test, y_pred)\n",
    "print(\"Accuracy:\", accuracy)\n",
    "\n",
    "# Get the classification report\n",
    "report = classification_report(y_test, y_pred)\n",
    "print(report)\n",
    "\n",
    "# Feature Importance (if applicable)\n",
    "# ... analyze feature importance scores from your model ...\n",
    "\n",
    "# Analysis and Conclusions (written as comments)\n",
    "print(\"\\nAnalysis and Conclusions:\")\n",
    "print(f\"The model achieved an accuracy of {accuracy:.2f}.\")\n",
    "print(f\"The classification report reveals:\\n{report}\")\n",
    "print(\"However, the dataset size (100 samples) limits the generalizability of these results.\")\n",
    "print(\"Feature importance analysis (if applicable) can provide insights into the most predictive features for lung cancer.\")\n",
    "print(\"This initial exploration highlights the potential for using machine learning for lung cancer prediction, but a larger dataset is crucial for building a robust model.\")\n"
   ]
  },
  {
   "cell_type": "code",
   "execution_count": 43,
   "id": "1762144077e6a9b",
   "metadata": {
    "ExecuteTime": {
     "end_time": "2024-05-18T12:23:51.937009400Z",
     "start_time": "2024-05-18T12:23:50.619453800Z"
    },
    "collapsed": false
   },
   "outputs": [],
   "source": [
    "import pandas as pd\n",
    "\n",
    "file = pd.read_csv(\"lung cancer.csv\")\n",
    "\n",
    "file.to_csv(\"lung cancer.tab\")\n",
    "\n"
   ]
  },
  {
   "cell_type": "code",
   "execution_count": null,
   "id": "c9b549c0cc26809c",
   "metadata": {
    "collapsed": false
   },
   "outputs": [],
   "source": [
    "#updated code by Saad Mohamed Saad"
   ]
  }
 ],
 "metadata": {
  "kernelspec": {
   "display_name": "Python 3",
   "language": "python",
   "name": "python3"
  },
  "language_info": {
   "codemirror_mode": {
    "name": "ipython",
    "version": 2
   },
   "file_extension": ".py",
   "mimetype": "text/x-python",
   "name": "python",
   "nbconvert_exporter": "python",
   "pygments_lexer": "ipython2",
   "version": "2.7.6"
  }
 },
 "nbformat": 4,
 "nbformat_minor": 5
}
